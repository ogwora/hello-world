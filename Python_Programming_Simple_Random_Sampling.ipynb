{
  "nbformat": 4,
  "nbformat_minor": 0,
  "metadata": {
    "colab": {
      "name": "Python Programming: Simple Random Sampling",
      "provenance": [],
      "collapsed_sections": [
        "s0-xi8v6eATI",
        "c2SS_SWaQXE2",
        "cSWmgSy3SV5D",
        "RcV5DlN5R2uh",
        "PA5HaWPvTALQ",
        "BeUYGvGhTsm1",
        "bNWFLKL-gRTO",
        "kV0dRO0nUJzL",
        "0gGIBBpggZT2",
        "DwOtPvA3UnHf",
        "LZgY26bsgfJv",
        "-22NquhoWF7l",
        "8QVs13BcYJpm"
      ],
      "toc_visible": true,
      "include_colab_link": true
    },
    "kernelspec": {
      "name": "python3",
      "display_name": "Python 3"
    }
  },
  "cells": [
    {
      "cell_type": "markdown",
      "metadata": {
        "id": "view-in-github",
        "colab_type": "text"
      },
      "source": [
        "<a href=\"https://colab.research.google.com/github/ogwora/hello-world/blob/master/Python_Programming_Simple_Random_Sampling.ipynb\" target=\"_parent\"><img src=\"https://colab.research.google.com/assets/colab-badge.svg\" alt=\"Open In Colab\"/></a>"
      ]
    },
    {
      "cell_type": "markdown",
      "metadata": {
        "id": "YutBgvuBdPHi"
      },
      "source": [
        "<font color=\"green\">To start working on this notebook, or any other notebook that we will use in the Moringa Data Science Course, we will need to save our own copy of it. We can do this by clicking File > Save a Copy in Drive. We will then be able to make edits to our own copy of this notebook.</font>"
      ]
    },
    {
      "cell_type": "markdown",
      "metadata": {
        "id": "5zn7dG78QUoE"
      },
      "source": [
        "# Python Programming:  Simple Random Sampling\n"
      ]
    },
    {
      "cell_type": "markdown",
      "metadata": {
        "id": "s0-xi8v6eATI"
      },
      "source": [
        "## Importing our Libraries"
      ]
    },
    {
      "cell_type": "code",
      "metadata": {
        "id": "suQkBJ4BTRWv"
      },
      "source": [
        "# importing numpy\n",
        "import numpy as np\n",
        "\n",
        "# importing pandas\n",
        "import pandas as pd\n",
        "\n",
        "# importing random module\n",
        "# we will use random.sample() function to return a k length \n",
        "# list of unique elements chosen from our population\n",
        "import random"
      ],
      "execution_count": 1,
      "outputs": []
    },
    {
      "cell_type": "markdown",
      "metadata": {
        "id": "c2SS_SWaQXE2"
      },
      "source": [
        "## 1.0 Selecting More than One item from a List"
      ]
    },
    {
      "cell_type": "code",
      "metadata": {
        "id": "ttRODtArQMVS",
        "colab": {
          "base_uri": "https://localhost:8080/"
        },
        "outputId": "cc1258b9-e6d1-4506-b72b-5bce490ba5ae"
      },
      "source": [
        "# Example 1\n",
        "# ---\n",
        "# Selecting more than one item from a list \n",
        "# ---\n",
        "#\n",
        "\n",
        "list = [20, 40, 80, 100, 120]\n",
        "print (\"Choosing 3 random items from a list using sample function\", random.sample(list, k=3))\n",
        "\n",
        "list = [20, 40, 20, 20, 20]\n",
        "print (\"Choosing 3 random items from a list using sample function\",random.sample(list, k=3))\n",
        "\n",
        "# As you can see we pass k=3 to choose 3 random elements from a list. \n",
        "# In return, we got a list of 3 random items."
      ],
      "execution_count": 8,
      "outputs": [
        {
          "output_type": "stream",
          "text": [
            "Choosing 3 random items from a list using sample function [40, 20, 80]\n",
            "Choosing 3 random items from a list using sample function [20, 20, 40]\n"
          ],
          "name": "stdout"
        }
      ]
    },
    {
      "cell_type": "markdown",
      "metadata": {
        "id": "cSWmgSy3SV5D"
      },
      "source": [
        "### <font color=\"green\"> 1.0 Challenges</font>"
      ]
    },
    {
      "cell_type": "code",
      "metadata": {
        "id": "Ga8D2XvfRFaP",
        "colab": {
          "base_uri": "https://localhost:8080/"
        },
        "outputId": "e0ae4fc3-a176-4fd1-ea3c-a8d03a9ea465"
      },
      "source": [
        "# Challenge 1\n",
        "# ---\n",
        "# Question: Create a list containing 10 counties in Kenya \n",
        "# then select 2 random counties from the list.\n",
        "# ---\n",
        "# \n",
        "counties=['Mombasa','Kwale','Kilifi','Tana River','Lamu','Taita/Taveta','Garissa','Wajir','Mandera','Marsabit']\n",
        "print(\"Choosing 2 random counties from the list\",random.sample(counties, k=2))"
      ],
      "execution_count": 16,
      "outputs": [
        {
          "output_type": "stream",
          "text": [
            "Choosing 2 random counties from the list ['Kilifi', 'Mandera']\n"
          ],
          "name": "stdout"
        }
      ]
    },
    {
      "cell_type": "markdown",
      "metadata": {
        "id": "RcV5DlN5R2uh"
      },
      "source": [
        "## 2.0  Selecting the Random Sample from Dictionary"
      ]
    },
    {
      "cell_type": "code",
      "metadata": {
        "id": "yerkTFAPSIlT",
        "colab": {
          "base_uri": "https://localhost:8080/"
        },
        "outputId": "c47e7960-df8d-4b63-c220-5f030a5d213b"
      },
      "source": [
        "# Example 1\n",
        "# ---\n",
        "# We can select a random key-value pair from the dictionary as shown \n",
        "# ---\n",
        "#\n",
        "marks_dict = {\n",
        "  \"Kelly\": 55,\n",
        "  \"jhon\": 70,\n",
        "  \"Donald\": 60,\n",
        "  \"Lennin\" :50\n",
        "}\n",
        "\n",
        "print (\"Choosing 2 random items from a dictionary using sample method \", random.sample(marks_dict.items(), k=2))"
      ],
      "execution_count": 17,
      "outputs": [
        {
          "output_type": "stream",
          "text": [
            "Choosing 2 random items from a dictionary using sample method  [('Donald', 60), ('jhon', 70)]\n"
          ],
          "name": "stdout"
        }
      ]
    },
    {
      "cell_type": "markdown",
      "metadata": {
        "id": "PA5HaWPvTALQ"
      },
      "source": [
        "### <font color=\"green\">2.0 Challenges</font>"
      ]
    },
    {
      "cell_type": "code",
      "metadata": {
        "id": "GZimMc1TSSGU",
        "colab": {
          "base_uri": "https://localhost:8080/"
        },
        "outputId": "b725351f-e34e-4ba7-a407-93fb868956d6"
      },
      "source": [
        "# Challenge 1\n",
        "# ---\n",
        "# A caterer offers three different food packages; \n",
        "# bronze package: starch:rice stew:chicken curry vegetable:cabbages desert:melon\n",
        "# silver package: starch:rice and chappati  stew:beef curry vegetable:spinach desert:melon and bananas\n",
        "# gold package: starch:rice, chappati and mukimo stew: beef curry vegetable:spinach and managu desert: tart\n",
        "# Create a dictionary that stores the above information and select a sample of size 2 \n",
        "# ---\n",
        "#\n",
        "food_pkg = {\n",
        "\"bronze_package\": {\"starch\":\"rice\", \"stew\":\"chicken curry\", \"vegetable\":\"cabbages\", \"desert\":\"melon\"},\n",
        "\"silver_package\": {\"starch\":\"rice and chappati\",  \"stew\":\"beef curry\", \"vegetable\":\"spinach\", \"desert\":\"melon and bananas\"},\n",
        "\"gold_package\": {\"starch\":\"rice, chappati and mukimo\", \"stew\":\"beef curry\", \"vegetable\":\"spinach and managu\", \"desert\": \"tart\"}\n",
        "}\n",
        "\n",
        "print (\"Choosing 2 random food packages from a dictionary using sample method \", random.sample(food_pkg.items(), k=2))"
      ],
      "execution_count": 20,
      "outputs": [
        {
          "output_type": "stream",
          "text": [
            "Choosing 2 random food packages from a dictionary using sample method  [('gold_package', {'starch': 'rice, chappati and mukimo', 'stew': 'beef curry', 'vegetable': 'spinach and managu', 'desert': 'tart'}), ('silver_package', {'starch': 'rice and chappati', 'stew': 'beef curry', 'vegetable': 'spinach', 'desert': 'melon and bananas'})]\n"
          ],
          "name": "stdout"
        }
      ]
    },
    {
      "cell_type": "markdown",
      "metadata": {
        "id": "BeUYGvGhTsm1"
      },
      "source": [
        "## 3.0 Selecting a Random Sample with Replacement to including repetition\n"
      ]
    },
    {
      "cell_type": "code",
      "metadata": {
        "id": "9lDLmuqyT0DH",
        "colab": {
          "base_uri": "https://localhost:8080/"
        },
        "outputId": "924a2a5b-3f3d-4a76-8615-9943a4cab4b8"
      },
      "source": [
        "# Example 1\n",
        "# ---\n",
        "# We can select a random sample with replacement to include repetition as shown below\n",
        "# ---\n",
        "# \n",
        "names = [\"Roger\", \"Nadal\", \"Novac\", \"Andre\", \"Sarena\", \"Mariya\", \"Martina\"]\n",
        "\n",
        "print(\"random sample with replacement to including repetition \", random.choices(names, k=3))"
      ],
      "execution_count": 21,
      "outputs": [
        {
          "output_type": "stream",
          "text": [
            "random sample with replacement to including repetition  ['Nadal', 'Novac', 'Nadal']\n"
          ],
          "name": "stdout"
        }
      ]
    },
    {
      "cell_type": "markdown",
      "metadata": {
        "id": "bNWFLKL-gRTO"
      },
      "source": [
        "### <font color=\"green\">3.0 Challenges</font>"
      ]
    },
    {
      "cell_type": "code",
      "metadata": {
        "id": "OYjj3osOUCC3",
        "colab": {
          "base_uri": "https://localhost:8080/"
        },
        "outputId": "276aa54e-a4b4-4d6e-a042-d4dc59551211"
      },
      "source": [
        "# Challenge 1\n",
        "# ---\n",
        "# Question: Select a random sample of 3 with replacement to include replacement from the \n",
        "# following list of months\n",
        "# ---\n",
        "#\n",
        "\n",
        "months = ['January', 'February', 'March', 'April', 'May', 'June', 'July',\n",
        "          'August', 'September', 'October', 'November', 'December']\n",
        "\n",
        "print(\"random sample with replacement to including repetition \", random.choices(months, k=3))"
      ],
      "execution_count": 25,
      "outputs": [
        {
          "output_type": "stream",
          "text": [
            "random sample with replacement to including repetition  ['June', 'February', 'February']\n"
          ],
          "name": "stdout"
        }
      ]
    },
    {
      "cell_type": "markdown",
      "metadata": {
        "id": "kV0dRO0nUJzL"
      },
      "source": [
        "## 4.0 Selecting a Random Sample from a Range of Integers"
      ]
    },
    {
      "cell_type": "code",
      "metadata": {
        "id": "HBqhmibxUIgt",
        "colab": {
          "base_uri": "https://localhost:8080/"
        },
        "outputId": "7d0448e7-9868-4c5e-c261-a53c49080c95"
      },
      "source": [
        "# Example 1\n",
        "# ---\n",
        "# We can select a random sample from a range of integers as shown below\n",
        "# ---\n",
        "# \n",
        "\n",
        "weight_set = {40, 50, 55, 65, 75, 80}\n",
        "\n",
        "print (\"Choosing 4 random items from a set \", random.sample(weight_set, k=4))"
      ],
      "execution_count": 26,
      "outputs": [
        {
          "output_type": "stream",
          "text": [
            "Choosing 4 random items from a set  [65, 40, 80, 75]\n"
          ],
          "name": "stdout"
        }
      ]
    },
    {
      "cell_type": "markdown",
      "metadata": {
        "id": "0gGIBBpggZT2"
      },
      "source": [
        "### <font color=\"green\">4.1 Challenges</font>"
      ]
    },
    {
      "cell_type": "code",
      "metadata": {
        "id": "IIAkil2VUjuI",
        "colab": {
          "base_uri": "https://localhost:8080/"
        },
        "outputId": "b6b8df4f-d8a4-40d5-c06f-e295ab386464"
      },
      "source": [
        "# Challenge 1\n",
        "# ---\n",
        "# Question: Select a random sample from a range of integers as shown below\n",
        "# --- \n",
        "# \n",
        "weight_set = {4, 5, 6, 7, 8, 9, 10}\n",
        "\n",
        "print (\"Choosing a random item from a set \", random.sample(weight_set, k=1))"
      ],
      "execution_count": 30,
      "outputs": [
        {
          "output_type": "stream",
          "text": [
            "Choosing a random item from a set  [5]\n"
          ],
          "name": "stdout"
        }
      ]
    },
    {
      "cell_type": "markdown",
      "metadata": {
        "id": "DwOtPvA3UnHf"
      },
      "source": [
        "## 5.0 Selecting a Sample Array from a Large multidimensional Array\n",
        "\n"
      ]
    },
    {
      "cell_type": "code",
      "metadata": {
        "id": "RxtsWbUtU2cW",
        "colab": {
          "base_uri": "https://localhost:8080/"
        },
        "outputId": "af72ed8b-07cd-4a64-b535-04fb7bb90f6c"
      },
      "source": [
        "# Example 1\n",
        "# ---\n",
        "# We can select a sample array from a large multidimensional array as shown\n",
        "# ---\n",
        "# \n",
        "\n",
        "array = np.array([[2 ,4, 6], [5, 10, 15], [6, 12, 18], [7, 14, 21], [8, 16, 24]]) \n",
        "print(\"Printing 2D Array\")\n",
        "print(array)\n",
        "\n",
        "# selecting multiple random rows from the 2D as shown\n",
        "print(\"Selecting multiple random rows from the 2D array\")\n",
        "randomRows = np.random.randint(5, size=2)\n",
        "for i in randomRows:\n",
        "  print(array[i,:])"
      ],
      "execution_count": 33,
      "outputs": [
        {
          "output_type": "stream",
          "text": [
            "Printing 2D Array\n",
            "[[ 2  4  6]\n",
            " [ 5 10 15]\n",
            " [ 6 12 18]\n",
            " [ 7 14 21]\n",
            " [ 8 16 24]]\n",
            "Selecting multiple random rows from the 2D array\n",
            "[ 5 10 15]\n",
            "[ 5 10 15]\n"
          ],
          "name": "stdout"
        }
      ]
    },
    {
      "cell_type": "markdown",
      "metadata": {
        "id": "LZgY26bsgfJv"
      },
      "source": [
        "### <font color=\"green\">5.0 Challenges</font>"
      ]
    },
    {
      "cell_type": "code",
      "metadata": {
        "id": "mJt1ePbSVR9j",
        "colab": {
          "base_uri": "https://localhost:8080/"
        },
        "outputId": "fde5498a-5b90-425e-b956-8f717e19bc9e"
      },
      "source": [
        "# Challenge 1\n",
        "# ---\n",
        "# Question: Select two arrays from the given multidimensional array\n",
        "# ---\n",
        "# \n",
        "\n",
        "a = [[2, 4, 6, 8, 10], [3, 6, 9, 12, 15], [4, 8, 12, 16, 20], [1 ,2 , 4, 5, 6], [5, 10, 15, 20, 25], [6, 12, 18, 24, 30], [7, 14, 21, 28, 35]]  \n",
        "array=np.array(a)\n",
        "print(\"Printing 2D Array\")\n",
        "print(a)\n",
        "\n",
        "# selecting multiple random rows from the 2D as shown\n",
        "print(\"Selecting multiple random rows from the 2D array\")\n",
        "randomRows = np.random.randint(7, size=2)\n",
        "for i in randomRows:\n",
        "  print(array[i,:])"
      ],
      "execution_count": 39,
      "outputs": [
        {
          "output_type": "stream",
          "text": [
            "Printing 2D Array\n",
            "[[2, 4, 6, 8, 10], [3, 6, 9, 12, 15], [4, 8, 12, 16, 20], [1, 2, 4, 5, 6], [5, 10, 15, 20, 25], [6, 12, 18, 24, 30], [7, 14, 21, 28, 35]]\n",
            "Selecting multiple random rows from the 2D array\n",
            "[ 2  4  6  8 10]\n",
            "[ 2  4  6  8 10]\n"
          ],
          "name": "stdout"
        }
      ]
    },
    {
      "cell_type": "markdown",
      "metadata": {
        "id": "-22NquhoWF7l"
      },
      "source": [
        "## 6.0 Selecting Random Samples from a Dataset"
      ]
    },
    {
      "cell_type": "code",
      "metadata": {
        "id": "gimbl5z3Waat",
        "colab": {
          "base_uri": "https://localhost:8080/"
        },
        "outputId": "91b39eaf-b2f3-481d-bfcc-a5478b379344"
      },
      "source": [
        "# Example 1\n",
        "# ---\n",
        "# Selecting a random sample from the following medical appointments dataset\n",
        "# ---\n",
        "# Dataset url = http://bit.ly/MedicalAppointmentsDataset\n",
        "# ---\n",
        "# \n",
        "\n",
        "# Loading the dataset\n",
        "medical_df = pd.read_csv(\"http://bit.ly/MedicalAppointmentsDataset\")\n",
        "\n",
        "# Determining the size\n",
        "print(medical_df.shape)\n",
        "\n",
        "\n",
        "# Previewing the dataset\n",
        "print(medical_df.head())\n",
        "\n",
        "# Selecting the sample \n",
        "medical_sample = medical_df.sample(n = 10, replace=\"False\")\n",
        "print(medical_sample)"
      ],
      "execution_count": 41,
      "outputs": [
        {
          "output_type": "stream",
          "text": [
            "(110527, 14)\n",
            "      PatientId  AppointmentID Gender  ... Handcap SMS_received  No-show\n",
            "0  2.987250e+13        5642903      F  ...       0            0       No\n",
            "1  5.589978e+14        5642503      M  ...       0            0       No\n",
            "2  4.262962e+12        5642549      F  ...       0            0       No\n",
            "3  8.679512e+11        5642828      F  ...       0            0       No\n",
            "4  8.841186e+12        5642494      F  ...       0            0       No\n",
            "\n",
            "[5 rows x 14 columns]\n",
            "          PatientId  AppointmentID Gender  ... Handcap SMS_received  No-show\n",
            "30579  2.949249e+14        5637612      M  ...       0            0       No\n",
            "14940  7.566115e+11        5713957      M  ...       0            0       No\n",
            "93202  3.371399e+13        5734551      M  ...       0            1       No\n",
            "86186  8.963877e+14        5769884      F  ...       0            0       No\n",
            "6332   4.751234e+12        5682086      F  ...       0            0       No\n",
            "87683  7.153622e+13        5715711      F  ...       0            1       No\n",
            "73992  9.361877e+13        5711863      M  ...       0            0       No\n",
            "51083  4.189382e+11        5620042      F  ...       0            1       No\n",
            "76570  3.617978e+14        5695034      M  ...       0            0       No\n",
            "90415  7.235892e+14        5770233      M  ...       0            1       No\n",
            "\n",
            "[10 rows x 14 columns]\n"
          ],
          "name": "stdout"
        }
      ]
    },
    {
      "cell_type": "markdown",
      "metadata": {
        "id": "8QVs13BcYJpm"
      },
      "source": [
        "### <font color=\"green\">6.0 Challenges </font>"
      ]
    },
    {
      "cell_type": "code",
      "metadata": {
        "id": "VZEi6JOnXJNt",
        "colab": {
          "base_uri": "https://localhost:8080/"
        },
        "outputId": "3e16efd7-5130-476f-992e-27345902fc7e"
      },
      "source": [
        "# Challenge 1\n",
        "# ---\n",
        "# Select a random sample of 10 from the given dataset below \n",
        "# ---\n",
        "# Dataset url = http://bit.ly/DSRussianInvestigation\n",
        "# ---\n",
        "#\n",
        "russia_df = pd.read_csv(\"http://bit.ly/DSRussianInvestigation\")\n",
        "\n",
        "# Determining the size\n",
        "print(russia_df.shape)\n",
        "\n",
        "\n",
        "# Previewing the dataset\n",
        "print(russia_df.head())\n",
        "\n",
        "# Selecting the sample \n",
        "russia_sample = russia_df.sample(n = 10, replace=\"False\")\n",
        "print(russia_sample)"
      ],
      "execution_count": 42,
      "outputs": [
        {
          "output_type": "stream",
          "text": [
            "(194, 13)\n",
            "  investigation investigation-start  ... american      president\n",
            "0     watergate          1973-05-19  ...     True  Richard Nixon\n",
            "1     watergate          1973-05-19  ...     True  Richard Nixon\n",
            "2     watergate          1973-05-19  ...     True  Richard Nixon\n",
            "3     watergate          1973-05-19  ...     True  Richard Nixon\n",
            "4     watergate          1973-05-19  ...     True  Richard Nixon\n",
            "\n",
            "[5 rows x 13 columns]\n",
            "       investigation investigation-start  ... american      president\n",
            "183           russia          2017-05-17  ...    False   Donald Trump\n",
            "87       iran-contra          1986-12-19  ...     True  Ronald Reagan\n",
            "128       whitewater          1994-08-05  ...     True   Bill Clinton\n",
            "74   raymond-donovan          1981-12-29  ...     True  Ronald Reagan\n",
            "2          watergate          1973-05-19  ...     True  Richard Nixon\n",
            "71         watergate          1973-05-19  ...     True  Richard Nixon\n",
            "35         watergate          1973-05-19  ...     True  Richard Nixon\n",
            "166           russia          2017-05-17  ...    False   Donald Trump\n",
            "166           russia          2017-05-17  ...    False   Donald Trump\n",
            "190           russia          2017-05-17  ...    False   Donald Trump\n",
            "\n",
            "[10 rows x 13 columns]\n"
          ],
          "name": "stdout"
        }
      ]
    },
    {
      "cell_type": "code",
      "metadata": {
        "id": "WZgm88i7YTRf",
        "colab": {
          "base_uri": "https://localhost:8080/"
        },
        "outputId": "a23f63d5-e8b8-4423-f095-30d6e5f19fd5"
      },
      "source": [
        "# Challenge 2\n",
        "# ---\n",
        "# A medical company would like to follow up with 50 patients who never showed up for appointments \n",
        "# but received an sms. Select a random sample from such patients given the medical dataset below \n",
        "# ---\n",
        "# Dataset url = http://bit.ly/MedicalAppointmentsDataset\n",
        "# ---\n",
        "#\n",
        "df = pd.read_csv(\"http://bit.ly/MedicalAppointmentsDataset\")\n",
        "\n",
        "appointment_df=df[(df['SMS_received'] == 1) & ( df['No-show']=='Yes')]\n",
        "\n",
        "\n",
        "# Dataset size\n",
        "print(appointment_df.shape)\n",
        "\n",
        "# Selecting the sample \n",
        "appointment_sample = appointment_df.sample(n = 50, replace=\"False\")\n",
        "print(appointment_sample)"
      ],
      "execution_count": 51,
      "outputs": [
        {
          "output_type": "stream",
          "text": [
            "(9784, 14)\n",
            "           PatientId  AppointmentID Gender  ... Handcap SMS_received  No-show\n",
            "19443   8.264823e+14        5624438      F  ...       0            1      Yes\n",
            "97039   9.736987e+13        5627971      M  ...       0            1      Yes\n",
            "89580   7.499400e+13        5674297      F  ...       0            1      Yes\n",
            "36838   1.389518e+13        5426425      M  ...       0            1      Yes\n",
            "36228   2.616696e+12        5722220      F  ...       0            1      Yes\n",
            "9290    8.221459e+14        5671588      M  ...       0            1      Yes\n",
            "17332   7.559474e+12        5643323      F  ...       0            1      Yes\n",
            "2178    2.387167e+14        5577532      F  ...       0            1      Yes\n",
            "46522   1.966467e+13        5624249      F  ...       0            1      Yes\n",
            "85817   2.334776e+11        5772568      F  ...       0            1      Yes\n",
            "37722   7.243564e+12        5725646      M  ...       1            1      Yes\n",
            "60729   9.969569e+12        5585787      F  ...       0            1      Yes\n",
            "43451   2.733269e+14        5620055      F  ...       0            1      Yes\n",
            "97256   2.455491e+14        5735163      F  ...       0            1      Yes\n",
            "27499   6.248592e+12        5596165      M  ...       0            1      Yes\n",
            "45764   1.988177e+13        5596520      F  ...       0            1      Yes\n",
            "88426   5.589484e+14        5681254      F  ...       0            1      Yes\n",
            "56465   8.233837e+13        5617196      F  ...       0            1      Yes\n",
            "29402   7.187829e+11        5608838      F  ...       0            1      Yes\n",
            "45140   6.113270e+14        5619207      M  ...       0            1      Yes\n",
            "107995  9.965895e+12        5754357      M  ...       0            1      Yes\n",
            "72378   1.774466e+12        5669136      M  ...       0            1      Yes\n",
            "69515   7.123482e+12        5656091      F  ...       0            1      Yes\n",
            "86636   6.797453e+12        5735032      F  ...       0            1      Yes\n",
            "95472   5.384757e+13        5710362      F  ...       0            1      Yes\n",
            "13294   6.248151e+14        5556229      M  ...       0            1      Yes\n",
            "43872   9.875489e+13        5620365      M  ...       0            1      Yes\n",
            "38001   1.753938e+13        5559254      F  ...       0            1      Yes\n",
            "101123  9.589476e+12        5719373      M  ...       0            1      Yes\n",
            "61768   3.514339e+14        5660270      M  ...       0            1      Yes\n",
            "36838   1.389518e+13        5426425      M  ...       0            1      Yes\n",
            "58492   9.599827e+11        5607047      M  ...       0            1      Yes\n",
            "92923   1.395353e+14        5697004      F  ...       0            1      Yes\n",
            "66903   2.772356e+14        5476721      F  ...       0            1      Yes\n",
            "862     1.538956e+14        5558848      F  ...       0            1      Yes\n",
            "100175  1.557188e+12        5726879      M  ...       0            1      Yes\n",
            "18956   4.632417e+14        5493932      M  ...       0            1      Yes\n",
            "66323   9.621494e+13        5441053      F  ...       0            1      Yes\n",
            "48618   1.426935e+12        5552715      F  ...       0            1      Yes\n",
            "86058   3.997952e+13        5569380      M  ...       0            1      Yes\n",
            "24461   2.842238e+13        5631774      F  ...       0            1      Yes\n",
            "799     5.298486e+13        5550226      F  ...       0            1      Yes\n",
            "102336  5.229765e+13        5686031      F  ...       0            1      Yes\n",
            "105652  8.362678e+12        5737877      F  ...       0            1      Yes\n",
            "20770   8.142345e+13        5639472      F  ...       0            1      Yes\n",
            "12583   2.822482e+14        5665560      F  ...       0            1      Yes\n",
            "94979   7.966833e+11        5708997      M  ...       0            1      Yes\n",
            "103667  7.573515e+14        5677707      F  ...       0            1      Yes\n",
            "49105   8.758126e+10        5577088      F  ...       0            1      Yes\n",
            "51036   9.153739e+12        5626648      F  ...       0            1      Yes\n",
            "\n",
            "[50 rows x 14 columns]\n"
          ],
          "name": "stdout"
        }
      ]
    }
  ]
}